{
 "metadata": {
  "language_info": {
   "codemirror_mode": {
    "name": "ipython",
    "version": 3
   },
   "file_extension": ".py",
   "mimetype": "text/x-python",
   "name": "python",
   "nbconvert_exporter": "python",
   "pygments_lexer": "ipython3",
   "version": "3.9.5"
  },
  "orig_nbformat": 2,
  "kernelspec": {
   "name": "python395jvsc74a57bd00038b6b4c19ec57f9aca6c7898618ff120668363accce836c969a12993bf4c69",
   "display_name": "Python 3.9.5 64-bit"
  },
  "metadata": {
   "interpreter": {
    "hash": "0038b6b4c19ec57f9aca6c7898618ff120668363accce836c969a12993bf4c69"
   }
  }
 },
 "nbformat": 4,
 "nbformat_minor": 2,
 "cells": [
  {
   "cell_type": "code",
   "execution_count": 1,
   "metadata": {},
   "outputs": [],
   "source": [
    "import re\n",
    "from nltk.stem import PorterStemmer\n",
    "from nltk.tokenize import word_tokenize\n",
    "import nltk\n",
    "import os"
   ]
  },
  {
   "cell_type": "code",
   "execution_count": 2,
   "metadata": {},
   "outputs": [
    {
     "output_type": "stream",
     "name": "stderr",
     "text": [
      "[nltk_data] Downloading package punkt to\n[nltk_data]     C:\\Users\\orkunmanap\\AppData\\Roaming\\nltk_data...\n[nltk_data]   Package punkt is already up-to-date!\n"
     ]
    },
    {
     "output_type": "execute_result",
     "data": {
      "text/plain": [
       "True"
      ]
     },
     "metadata": {},
     "execution_count": 2
    }
   ],
   "source": [
    "nltk.download('punkt')"
   ]
  },
  {
   "cell_type": "code",
   "execution_count": 3,
   "metadata": {},
   "outputs": [],
   "source": [
    "ps = PorterStemmer()\n",
    "word_list_index = {}\n",
    "word_list_counter = {}\n",
    "counter = 0"
   ]
  },
  {
   "cell_type": "code",
   "execution_count": 4,
   "metadata": {},
   "outputs": [],
   "source": [
    "for filename in os.listdir('TRAIN\\\\spam'):\n",
    "    try:\n",
    "        input_program = open(\"TRAIN\\\\spam\\\\\"+filename, \"r\").read()\n",
    "\n",
    "        # Replace email address with 'emailaddress'\n",
    "        input_program = re.sub(r'[\\w\\.-]+@[\\w\\.-]+\\.\\w+', ' emailadress ', input_program)\n",
    "\n",
    "        # Replace urls with 'webaddress'\n",
    "        input_program = re.sub(r'[\\w\\.-]+@[\\w\\.-]+\\.\\w+', ' webadress ', input_program)\n",
    "\n",
    "        # Replace money symbol with 'money-symbol'\n",
    "        input_program = re.sub(r'£|\\$', 'money-symbol', input_program)\n",
    "\n",
    "        # Replace 10 digit phone number with 'phone-number'\n",
    "        input_program = re.sub(\".*?(\\(?\\d{3}\\D{0,3}\\d{3}\\D{0,3}\\d{4}).*?\", ' phone-number ', input_program)\n",
    "\n",
    "        # Replace normal number with 'number'\n",
    "        input_program = re.sub('\\d', ' number ', input_program)\n",
    "\n",
    "        # remove punctuation\n",
    "        input_program = re.sub(r'[^\\w\\d\\s]', ' ', input_program)\n",
    "\n",
    "        # remove whitespace between terms with single space\n",
    "        input_program = re.sub(r'\\s+', ' ', input_program)\n",
    "\n",
    "        # remove leading and trailing whitespace\n",
    "        input_program = re.sub(r'^\\s+|\\s*?$', ' ', input_program)\n",
    "\n",
    "        # change words to lower case\n",
    "        input_program = input_program.lower()\n",
    "\n",
    "        words = word_tokenize(input_program)\n",
    "\n",
    "        for w in words:\n",
    "            lex = ps.stem(w)\n",
    "            if lex not in word_list_index.keys():\n",
    "                word_list_index[lex] = counter\n",
    "                word_list_counter[lex] = 1\n",
    "                counter = counter + 1\n",
    "            else:\n",
    "                word_list_counter[lex] =  word_list_counter[lex] +  1\n",
    "    except UnicodeDecodeError:\n",
    "        continue"
   ]
  },
  {
   "cell_type": "code",
   "execution_count": 5,
   "metadata": {
    "tags": []
   },
   "outputs": [],
   "source": [
    "#print(\"COUNTER\")\n",
    "#print(word_list_counter)"
   ]
  },
  {
   "cell_type": "code",
   "execution_count": 6,
   "metadata": {
    "tags": []
   },
   "outputs": [],
   "source": [
    "#print(\"INDEX\")\n",
    "#print(word_list_index)"
   ]
  },
  {
   "cell_type": "code",
   "execution_count": 7,
   "metadata": {},
   "outputs": [],
   "source": [
    "word_list_index_ham = {}\n",
    "word_list_counter_ham = {}"
   ]
  },
  {
   "cell_type": "code",
   "execution_count": 8,
   "metadata": {
    "tags": []
   },
   "outputs": [],
   "source": [
    "for filename in os.listdir('TRAIN\\\\ham'):\n",
    "    #print(filename)\n",
    "    try:\n",
    "        input_program = open(\"TRAIN\\\\ham\\\\\"+filename, \"r\").read()\n",
    "\n",
    "        # Replace email address with 'emailaddress'\n",
    "        input_program = re.sub(r'[\\w\\.-]+@[\\w\\.-]+\\.\\w+', ' emailadress ', input_program)\n",
    "\n",
    "        # Replace urls with 'webaddress'\n",
    "        input_program = re.sub(r'[\\w\\.-]+@[\\w\\.-]+\\.\\w+', ' webadress ', input_program)\n",
    "\n",
    "        # Replace money symbol with 'money-symbol'\n",
    "        input_program = re.sub(r'£|\\$', 'money-symbol', input_program)\n",
    "\n",
    "        # Replace 10 digit phone number with 'phone-number'\n",
    "        input_program = re.sub(\".*?(\\(?\\d{3}\\D{0,3}\\d{3}\\D{0,3}\\d{4}).*?\", ' phone-number ', input_program)\n",
    "\n",
    "        # Replace normal number with 'number'\n",
    "        input_program = re.sub('\\d', ' number ', input_program)\n",
    "\n",
    "        # remove punctuation\n",
    "        input_program = re.sub(r'[^\\w\\d\\s]', ' ', input_program)\n",
    "\n",
    "        # remove whitespace between terms with single space\n",
    "        input_program = re.sub(r'\\s+', ' ', input_program)\n",
    "\n",
    "        # remove leading and trailing whitespace\n",
    "        input_program = re.sub(r'^\\s+|\\s*?$', ' ', input_program)\n",
    "\n",
    "        # change words to lower case\n",
    "        input_program = input_program.lower()\n",
    "\n",
    "        words = word_tokenize(input_program)\n",
    "\n",
    "        for w in words:\n",
    "            lex = ps.stem(w)\n",
    "            if lex not in word_list_index_ham.keys():\n",
    "                if lex in word_list_index.keys():\n",
    "                    word_list_index_ham[lex] = word_list_index[lex]\n",
    "                else:\n",
    "                    word_list_index_ham[lex] = counter\n",
    "                    counter = counter + 1\n",
    "                word_list_counter_ham[lex] = 1\n",
    "            else:\n",
    "                word_list_counter_ham[lex] =  word_list_counter_ham[lex] +  1\n",
    "    except UnicodeDecodeError:\n",
    "        continue"
   ]
  },
  {
   "cell_type": "code",
   "execution_count": 9,
   "metadata": {
    "tags": []
   },
   "outputs": [],
   "source": [
    "#print(\"COUNTER\")\n",
    "#print(word_list_counter_ham)"
   ]
  },
  {
   "cell_type": "code",
   "execution_count": 10,
   "metadata": {
    "tags": []
   },
   "outputs": [],
   "source": [
    "#print(\"INDEX\")\n",
    "#print(word_list_index_ham)"
   ]
  },
  {
   "cell_type": "code",
   "execution_count": 11,
   "metadata": {},
   "outputs": [],
   "source": [
    "import json"
   ]
  },
  {
   "cell_type": "code",
   "execution_count": 12,
   "metadata": {},
   "outputs": [],
   "source": [
    "with open(\"FILES\\\\counter_spam.json\", \"w\") as outfile: \n",
    "    json.dump(word_list_counter, outfile)"
   ]
  },
  {
   "cell_type": "code",
   "execution_count": 13,
   "metadata": {},
   "outputs": [],
   "source": [
    "with open(\"FILES\\\\counter_ham.json\", \"w\") as outfile: \n",
    "    json.dump(word_list_counter_ham, outfile)"
   ]
  },
  {
   "cell_type": "code",
   "execution_count": 14,
   "metadata": {},
   "outputs": [],
   "source": [
    "with open(\"FILES\\\\index_spam.json\", \"w\") as outfile: \n",
    "    json.dump(word_list_index, outfile)"
   ]
  },
  {
   "cell_type": "code",
   "execution_count": 15,
   "metadata": {},
   "outputs": [],
   "source": [
    "with open(\"FILES\\\\index_ham.json\", \"w\") as outfile: \n",
    "    json.dump(word_list_index_ham, outfile)"
   ]
  },
  {
   "cell_type": "code",
   "execution_count": 16,
   "metadata": {},
   "outputs": [],
   "source": [
    "spamicity = {}\n",
    "total_word_ham = 0\n",
    "total_word_spam = 0"
   ]
  },
  {
   "cell_type": "code",
   "execution_count": 17,
   "metadata": {},
   "outputs": [
    {
     "output_type": "execute_result",
     "data": {
      "text/plain": [
       "938948"
      ]
     },
     "metadata": {},
     "execution_count": 17
    }
   ],
   "source": [
    "for i in word_list_counter_ham.keys():\n",
    "    total_word_ham = total_word_ham + word_list_counter_ham[i]\n",
    "total_word_ham"
   ]
  },
  {
   "cell_type": "code",
   "execution_count": 18,
   "metadata": {},
   "outputs": [
    {
     "output_type": "execute_result",
     "data": {
      "text/plain": [
       "886733"
      ]
     },
     "metadata": {},
     "execution_count": 18
    }
   ],
   "source": [
    "for i in word_list_counter.keys():\n",
    "    total_word_spam = total_word_spam + word_list_counter[i]\n",
    "total_word_spam"
   ]
  },
  {
   "cell_type": "code",
   "execution_count": 19,
   "metadata": {},
   "outputs": [],
   "source": [
    "word_list_counter_all = word_list_counter | word_list_counter_ham"
   ]
  },
  {
   "cell_type": "code",
   "execution_count": 20,
   "metadata": {},
   "outputs": [],
   "source": [
    "for i in word_list_counter_all.keys():\n",
    "    if i not in word_list_counter_ham:\n",
    "        spamicity[i] = 0.99\n",
    "    elif i not in word_list_counter:\n",
    "        spamicity[i] = 0.01\n",
    "        #spamicity[i] = 0\n",
    "    else:\n",
    "        spamicity[i] = (word_list_counter[i] / total_word_spam) / (word_list_counter_ham[i] / total_word_ham + word_list_counter[i] / total_word_spam)"
   ]
  },
  {
   "cell_type": "code",
   "execution_count": 21,
   "metadata": {},
   "outputs": [
    {
     "output_type": "execute_result",
     "data": {
      "text/plain": [
       "'fw'"
      ]
     },
     "metadata": {},
     "execution_count": 21
    }
   ],
   "source": [
    "list(spamicity.keys())[0]"
   ]
  },
  {
   "cell_type": "code",
   "execution_count": 22,
   "metadata": {},
   "outputs": [
    {
     "output_type": "execute_result",
     "data": {
      "text/plain": [
       "0.35103649432341727"
      ]
     },
     "metadata": {},
     "execution_count": 22
    }
   ],
   "source": [
    "spamicity['one']"
   ]
  },
  {
   "cell_type": "code",
   "execution_count": 23,
   "metadata": {},
   "outputs": [],
   "source": [
    "with open(\"FILES\\\\spamicity.json\", \"w\") as outfile: \n",
    "    json.dump(spamicity, outfile)"
   ]
  },
  {
   "cell_type": "code",
   "execution_count": 24,
   "metadata": {},
   "outputs": [],
   "source": [
    "import heapq\n",
    "highest_spam = heapq.nlargest(8, spamicity, key=spamicity.get)"
   ]
  },
  {
   "cell_type": "code",
   "execution_count": 25,
   "metadata": {},
   "outputs": [],
   "source": [
    "lowest_spam = heapq.nsmallest(8, spamicity, key=spamicity.get)"
   ]
  },
  {
   "cell_type": "code",
   "execution_count": 26,
   "metadata": {},
   "outputs": [
    {
     "output_type": "execute_result",
     "data": {
      "text/plain": [
       "['xmln',\n",
       " 'pad',\n",
       " 'mortgag',\n",
       " 'equiv',\n",
       " 'symbolmoney',\n",
       " 'ffff',\n",
       " 'systemwork',\n",
       " 'progid']"
      ]
     },
     "metadata": {},
     "execution_count": 26
    }
   ],
   "source": [
    "highest_spam"
   ]
  },
  {
   "cell_type": "code",
   "execution_count": 27,
   "metadata": {},
   "outputs": [
    {
     "output_type": "execute_result",
     "data": {
      "text/plain": [
       "['kde', 'kernel', 'lenni', 'postgresql', 'rpm', 'squeez', 'java', 'razor']"
      ]
     },
     "metadata": {},
     "execution_count": 27
    }
   ],
   "source": [
    "lowest_spam"
   ]
  },
  {
   "cell_type": "code",
   "execution_count": 28,
   "metadata": {},
   "outputs": [
    {
     "output_type": "execute_result",
     "data": {
      "text/plain": [
       "0.995480185459128"
      ]
     },
     "metadata": {},
     "execution_count": 28
    }
   ],
   "source": [
    "spamicity['xmln']"
   ]
  },
  {
   "cell_type": "code",
   "execution_count": 29,
   "metadata": {},
   "outputs": [
    {
     "output_type": "execute_result",
     "data": {
      "text/plain": [
       "0.0014117354171401372"
      ]
     },
     "metadata": {},
     "execution_count": 29
    }
   ],
   "source": [
    "spamicity['kde']"
   ]
  },
  {
   "cell_type": "code",
   "execution_count": 30,
   "metadata": {},
   "outputs": [],
   "source": [
    "average_spamicity = sum(spamicity.values()) / len(spamicity.values())"
   ]
  },
  {
   "cell_type": "code",
   "execution_count": 31,
   "metadata": {},
   "outputs": [
    {
     "output_type": "execute_result",
     "data": {
      "text/plain": [
       "0.6206642547871196"
      ]
     },
     "metadata": {},
     "execution_count": 31
    }
   ],
   "source": [
    "average_spamicity"
   ]
  },
  {
   "cell_type": "code",
   "execution_count": 32,
   "metadata": {},
   "outputs": [
    {
     "output_type": "stream",
     "name": "stdout",
     "text": [
      "Highest\n0.995480185459128\n0.9934105922975263\n0.9916384524050126\n0.9912511442918545\n0.9904873937376096\n0.99030842213989\n0.99\n0.99\nLowest\n0.0014117354171401372\n0.0018640403679879819\n0.0024507879133528073\n0.003517201272909299\n0.0038707742709632397\n0.0050893509980415\n0.005301698682293238\n0.0054008503318885535\n"
     ]
    }
   ],
   "source": [
    "spam_mult = 1\n",
    "spam_mult_minus1 = 1\n",
    "\n",
    "print('Highest')\n",
    "for i in highest_spam:\n",
    "    print(spamicity[i])\n",
    "    spam_mult = spam_mult * float(spamicity[i])\n",
    "    spam_mult_minus1 = spam_mult_minus1 * float(1 - spamicity[i])\n",
    "\n",
    "print('Lowest')\n",
    "for j in lowest_spam:\n",
    "    print(spamicity[j])\n",
    "    spam_mult = spam_mult * float(spamicity[j])\n",
    "    spam_mult_minus1 = spam_mult_minus1 * float(1 - spamicity[j])\n",
    "\n",
    "p = spam_mult / (spam_mult + spam_mult_minus1)"
   ]
  },
  {
   "cell_type": "code",
   "execution_count": 33,
   "metadata": {},
   "outputs": [
    {
     "output_type": "execute_result",
     "data": {
      "text/plain": [
       "0.000612424833780509"
      ]
     },
     "metadata": {},
     "execution_count": 33
    }
   ],
   "source": [
    "p"
   ]
  },
  {
   "cell_type": "code",
   "execution_count": 34,
   "metadata": {},
   "outputs": [],
   "source": [
    "value = { k : word_list_index[k] for k in set(word_list_index) - set(word_list_index_ham) }"
   ]
  },
  {
   "cell_type": "code",
   "execution_count": 35,
   "metadata": {},
   "outputs": [
    {
     "output_type": "execute_result",
     "data": {
      "text/plain": [
       "36084"
      ]
     },
     "metadata": {},
     "execution_count": 35
    }
   ],
   "source": [
    "len(value)"
   ]
  },
  {
   "cell_type": "code",
   "execution_count": 36,
   "metadata": {},
   "outputs": [
    {
     "output_type": "execute_result",
     "data": {
      "text/plain": [
       "55872"
      ]
     },
     "metadata": {},
     "execution_count": 36
    }
   ],
   "source": [
    "set1 = set(word_list_index.keys())\n",
    "set2 = set(word_list_index_ham.keys())\n",
    "\n",
    "len(set1 ^ set2)"
   ]
  },
  {
   "cell_type": "code",
   "execution_count": 37,
   "metadata": {},
   "outputs": [
    {
     "output_type": "execute_result",
     "data": {
      "text/plain": [
       "45817"
      ]
     },
     "metadata": {},
     "execution_count": 37
    }
   ],
   "source": [
    "len(word_list_index)"
   ]
  },
  {
   "cell_type": "code",
   "execution_count": null,
   "metadata": {},
   "outputs": [],
   "source": []
  }
 ]
}