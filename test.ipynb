{
 "metadata": {
  "language_info": {
   "codemirror_mode": {
    "name": "ipython",
    "version": 3
   },
   "file_extension": ".py",
   "mimetype": "text/x-python",
   "name": "python",
   "nbconvert_exporter": "python",
   "pygments_lexer": "ipython3",
   "version": "3.9.5"
  },
  "orig_nbformat": 2,
  "kernelspec": {
   "name": "python395jvsc74a57bd00038b6b4c19ec57f9aca6c7898618ff120668363accce836c969a12993bf4c69",
   "display_name": "Python 3.9.5 64-bit"
  },
  "metadata": {
   "interpreter": {
    "hash": "0038b6b4c19ec57f9aca6c7898618ff120668363accce836c969a12993bf4c69"
   }
  }
 },
 "nbformat": 4,
 "nbformat_minor": 2,
 "cells": [
  {
   "cell_type": "code",
   "execution_count": 1,
   "metadata": {},
   "outputs": [],
   "source": [
    "import re\n",
    "from nltk.stem import PorterStemmer\n",
    "from nltk.tokenize import word_tokenize\n",
    "import nltk\n",
    "import os"
   ]
  },
  {
   "cell_type": "code",
   "execution_count": 2,
   "metadata": {},
   "outputs": [
    {
     "output_type": "stream",
     "name": "stderr",
     "text": [
      "[nltk_data] Downloading package punkt to\n[nltk_data]     C:\\Users\\orkunmanap\\AppData\\Roaming\\nltk_data...\n[nltk_data]   Package punkt is already up-to-date!\n"
     ]
    },
    {
     "output_type": "execute_result",
     "data": {
      "text/plain": [
       "True"
      ]
     },
     "metadata": {},
     "execution_count": 2
    }
   ],
   "source": [
    "nltk.download('punkt')"
   ]
  },
  {
   "cell_type": "code",
   "execution_count": 3,
   "metadata": {},
   "outputs": [],
   "source": [
    "ps = PorterStemmer()\n",
    "\n",
    "file_info_spamicity = {}\n",
    "\n",
    "paths = ['TEST\\\\ham', 'TEST\\\\spam']"
   ]
  },
  {
   "cell_type": "code",
   "execution_count": 4,
   "metadata": {},
   "outputs": [],
   "source": [
    "import json\n",
    "\n",
    "f = open('FILES\\\\spamicity.json',)\n",
    "spamicity_possibilty = json.load(f)\n",
    "\n",
    "default_spamicity = 0.5"
   ]
  },
  {
   "cell_type": "code",
   "execution_count": 5,
   "metadata": {},
   "outputs": [],
   "source": [
    "for path in paths:\n",
    "    for filename in os.listdir(path):\n",
    "        try:\n",
    "            input_program = open(path + \"\\\\\"+filename, \"r\").read()\n",
    "\n",
    "            # Replace email address with 'emailaddress'\n",
    "            input_program = re.sub(r'[\\w\\.-]+@[\\w\\.-]+\\.\\w+', ' emailadress ', input_program)\n",
    "\n",
    "            # Replace urls with 'webaddress'\n",
    "            input_program = re.sub(r'[\\w\\.-]+@[\\w\\.-]+\\.\\w+', ' webadress ', input_program)\n",
    "\n",
    "            # Replace money symbol with 'money-symbol'\n",
    "            input_program = re.sub(r'£|\\$', 'money-symbol', input_program)\n",
    "\n",
    "            # Replace 10 digit phone number with 'phone-number'\n",
    "            input_program = re.sub(\".*?(\\(?\\d{3}\\D{0,3}\\d{3}\\D{0,3}\\d{4}).*?\", ' phone-number ', input_program)\n",
    "\n",
    "            # Replace normal number with 'number'\n",
    "            input_program = re.sub('\\d', ' number ', input_program)\n",
    "\n",
    "            # remove punctuation\n",
    "            input_program = re.sub(r'[^\\w\\d\\s]', ' ', input_program)\n",
    "\n",
    "            # remove whitespace between terms with single space\n",
    "            input_program = re.sub(r'\\s+', ' ', input_program)\n",
    "\n",
    "            # remove leading and trailing whitespace\n",
    "            input_program = re.sub(r'^\\s+|\\s*?$', ' ', input_program)\n",
    "\n",
    "            # change words to lower case\n",
    "            input_program = input_program.lower()\n",
    "\n",
    "            words = word_tokenize(input_program)\n",
    "\n",
    "            spamicity_list = {}\n",
    "\n",
    "            for w in words:\n",
    "                lex = ps.stem(w)\n",
    "                if lex not in spamicity_possibilty.keys():\n",
    "                    #print(lex)\n",
    "                    spamicity_list[lex] = default_spamicity\n",
    "                else:\n",
    "                    spamicity_list[lex] = spamicity_possibilty[lex]\n",
    "\n",
    "            file_info_spamicity[filename] = spamicity_list\n",
    "            \n",
    "        except UnicodeDecodeError:\n",
    "            continue"
   ]
  },
  {
   "cell_type": "code",
   "execution_count": 6,
   "metadata": {},
   "outputs": [],
   "source": [
    "import heapq"
   ]
  },
  {
   "cell_type": "code",
   "execution_count": 7,
   "metadata": {},
   "outputs": [],
   "source": [
    "file_info_highest_spam = {}\n",
    "file_info_lowest_spam = {}"
   ]
  },
  {
   "cell_type": "code",
   "execution_count": null,
   "metadata": {},
   "outputs": [],
   "source": []
  },
  {
   "cell_type": "code",
   "execution_count": 8,
   "metadata": {},
   "outputs": [],
   "source": [
    "analyzed_lexeme = 8"
   ]
  },
  {
   "cell_type": "code",
   "execution_count": 9,
   "metadata": {},
   "outputs": [],
   "source": [
    "threshold_value = 0.5\n",
    "\n",
    "number_spam_as_ham = 0\n",
    "number_spam_as_spam = 0\n",
    "number_ham_as_ham = 0\n",
    "number_ham_as_spam = 0"
   ]
  },
  {
   "cell_type": "code",
   "execution_count": 10,
   "metadata": {},
   "outputs": [],
   "source": [
    "for path in paths:\n",
    "    for filename in os.listdir(path):\n",
    "        try:\n",
    "            file_info_highest_spam[filename] = heapq.nlargest(analyzed_lexeme, file_info_spamicity[filename], key=file_info_spamicity           [filename].get)\n",
    "            file_info_lowest_spam[filename] = heapq.nsmallest(analyzed_lexeme, file_info_spamicity[filename], key=file_info_spamicity           [filename].get)\n",
    "        except KeyError:\n",
    "            continue"
   ]
  },
  {
   "cell_type": "code",
   "execution_count": 11,
   "metadata": {},
   "outputs": [],
   "source": [
    "file_spamicity = {}"
   ]
  },
  {
   "cell_type": "code",
   "execution_count": 12,
   "metadata": {},
   "outputs": [],
   "source": [
    "for path in paths:\n",
    "    for filename in os.listdir(path):\n",
    "        try:\n",
    "            spam_mult = 1\n",
    "            spam_mult_minus1 = 1\n",
    "\n",
    "            for i in file_info_highest_spam[filename]:\n",
    "                spam_mult = spam_mult * float(file_info_spamicity[filename][i])\n",
    "                spam_mult_minus1 = spam_mult_minus1 * float(1 - file_info_spamicity[filename][i])\n",
    "\n",
    "            for j in file_info_lowest_spam[filename]:\n",
    "                spam_mult = spam_mult * float(file_info_spamicity[filename][j])\n",
    "                spam_mult_minus1 = spam_mult_minus1 * float(1 - file_info_spamicity[filename][j])\n",
    "\n",
    "            #print(spam_mult)\n",
    "            file_spamicity[filename] = spam_mult / (spam_mult + spam_mult_minus1)\n",
    "\n",
    "            if file_spamicity[filename] < 0:\n",
    "                print(filename)\n",
    "                for i in file_info_highest_spam[filename]:\n",
    "                    print(file_info_spamicity[filename][i], end=' ')\n",
    "                print()\n",
    "        except KeyError:\n",
    "            continue"
   ]
  },
  {
   "cell_type": "code",
   "execution_count": 13,
   "metadata": {},
   "outputs": [],
   "source": [
    "for file_val in file_spamicity:\n",
    "    if file_spamicity[file_val] > threshold_value:\n",
    "        if file_val[-11:] == 'ne_spam.txt':\n",
    "            number_ham_as_spam = number_ham_as_spam + 1\n",
    "        else:\n",
    "            number_spam_as_spam = number_spam_as_spam + 1\n",
    "    elif file_spamicity[file_val] < threshold_value:\n",
    "        if file_val[-11:] == 'ne_spam.txt':\n",
    "            number_ham_as_ham = number_ham_as_ham + 1\n",
    "        else:\n",
    "            number_spam_as_ham = number_spam_as_ham + 1"
   ]
  },
  {
   "cell_type": "code",
   "execution_count": 14,
   "metadata": {},
   "outputs": [
    {
     "output_type": "execute_result",
     "data": {
      "text/plain": [
       "27"
      ]
     },
     "metadata": {},
     "execution_count": 14
    }
   ],
   "source": [
    "number_spam_as_ham"
   ]
  },
  {
   "cell_type": "code",
   "execution_count": 15,
   "metadata": {},
   "outputs": [
    {
     "output_type": "execute_result",
     "data": {
      "text/plain": [
       "6"
      ]
     },
     "metadata": {},
     "execution_count": 15
    }
   ],
   "source": [
    "number_ham_as_spam"
   ]
  },
  {
   "cell_type": "code",
   "execution_count": 16,
   "metadata": {},
   "outputs": [
    {
     "output_type": "execute_result",
     "data": {
      "text/plain": [
       "249"
      ]
     },
     "metadata": {},
     "execution_count": 16
    }
   ],
   "source": [
    "number_spam_as_spam"
   ]
  },
  {
   "cell_type": "code",
   "execution_count": 17,
   "metadata": {},
   "outputs": [
    {
     "output_type": "execute_result",
     "data": {
      "text/plain": [
       "582"
      ]
     },
     "metadata": {},
     "execution_count": 17
    }
   ],
   "source": [
    "number_ham_as_ham"
   ]
  },
  {
   "cell_type": "code",
   "execution_count": 18,
   "metadata": {},
   "outputs": [
    {
     "output_type": "execute_result",
     "data": {
      "text/plain": [
       "0.9618055555555556"
      ]
     },
     "metadata": {},
     "execution_count": 18
    }
   ],
   "source": [
    "sum_files = number_spam_as_ham + number_spam_as_spam + number_ham_as_ham + number_ham_as_spam\n",
    "correct_files = number_ham_as_ham + number_spam_as_spam \n",
    "accuracy = correct_files / sum_files\n",
    "\n",
    "accuracy"
   ]
  },
  {
   "cell_type": "code",
   "execution_count": 19,
   "metadata": {},
   "outputs": [],
   "source": [
    "#with open(\"FILES\\\\file_spamicity.json\", \"w\") as outfile: \n",
    " #   json.dump(file_spamicity, outfile)"
   ]
  },
  {
   "cell_type": "code",
   "execution_count": null,
   "metadata": {},
   "outputs": [],
   "source": []
  }
 ]
}